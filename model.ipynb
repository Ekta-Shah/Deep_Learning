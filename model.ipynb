{
  "nbformat": 4,
  "nbformat_minor": 0,
  "metadata": {
    "colab": {
      "name": "model.ipynb",
      "provenance": [],
      "collapsed_sections": []
    },
    "kernelspec": {
      "name": "python3",
      "display_name": "Python 3"
    },
    "accelerator": "GPU"
  },
  "cells": [
    {
      "cell_type": "code",
      "metadata": {
        "id": "PT1TooD2I3AB",
        "colab_type": "code",
        "colab": {}
      },
      "source": [
        "from google.colab import drive\n",
        "drive.mount('/content/gdrive')"
      ],
      "execution_count": 0,
      "outputs": []
    },
    {
      "cell_type": "code",
      "metadata": {
        "id": "yYh46mwcJDzu",
        "colab_type": "code",
        "colab": {}
      },
      "source": [
        "!unzip \"/content/gdrive/My Drive/Image Classification/analytics Vidya Computer Vision.zip\""
      ],
      "execution_count": 0,
      "outputs": []
    },
    {
      "cell_type": "code",
      "metadata": {
        "id": "PZoEFsaqJX7s",
        "colab_type": "code",
        "colab": {}
      },
      "source": [
        "from __future__ import print_function\n",
        "import os\n",
        "from scipy import misc\n",
        "import glob\n",
        "import matplotlib.pyplot as plt   \n",
        "import sys \n",
        "from scipy.ndimage import rotate\n",
        "#from scipy.misc import imread, imshow\n",
        "import keras\n",
        "from keras.preprocessing.image import ImageDataGenerator\n",
        "from keras.models import Sequential\n",
        "from keras.layers import Dense, Dropout, Activation, Flatten\n",
        "from keras.layers import Conv2D, MaxPooling2D\n",
        "import numpy as np\n",
        "import sys\n",
        "import shutil\n",
        "import random\n",
        "import numpy as np\n",
        "from keras.models import load_model\n",
        "import pandas as pd\n",
        "import cv2\n",
        "from tensorflow.contrib.keras.api.keras.layers import Dropout\n",
        "from tensorflow.contrib.keras.api.keras.models import Sequential\n",
        "from tensorflow.contrib.keras.api.keras.layers import Conv2D\n",
        "from tensorflow.contrib.keras.api.keras.layers import MaxPooling2D\n",
        "from tensorflow.contrib.keras.api.keras.layers import Flatten\n",
        "from tensorflow.contrib.keras.api.keras.layers import Dense\n",
        "from tensorflow.contrib.keras.api.keras.callbacks import Callback\n",
        "from tensorflow.contrib.keras.api.keras.preprocessing.image import ImageDataGenerator\n",
        "from tensorflow.contrib.keras import backend\n",
        "import os"
      ],
      "execution_count": 0,
      "outputs": []
    },
    {
      "cell_type": "code",
      "metadata": {
        "id": "E6rZGL2rHOJE",
        "colab_type": "code",
        "colab": {}
      },
      "source": [
        "path=\"/content\"\n",
        "train=pd.read_csv(path+\"/train.csv\")\n",
        "test=pd.read_csv(path+\"/test_ApKoW4T.csv\")\n",
        "\n",
        "train_size=5000\n",
        "test_size=1252"
      ],
      "execution_count": 0,
      "outputs": []
    },
    {
      "cell_type": "code",
      "metadata": {
        "id": "GXqg0dRXJdgQ",
        "colab_type": "code",
        "colab": {}
      },
      "source": [
        "def make_dir(directory):\n",
        "        if os.path.exists(directory):\n",
        "            shutil.rmtree(directory)\n",
        "        os.makedirs(directory)\n",
        "        \n",
        "path_train = path+\"/train\"\n",
        "make_dir(path_train)\n",
        "path_test = path+\"/test\"\n",
        "make_dir(path_test)\n"
      ],
      "execution_count": 0,
      "outputs": []
    },
    {
      "cell_type": "code",
      "metadata": {
        "id": "C7AgflQLHVrh",
        "colab_type": "code",
        "colab": {}
      },
      "source": [
        "test_real=[]\n",
        "train_real=[]\n",
        "path_test_real = path+\"/test_real\"\n",
        "make_dir(path_test_real)\n",
        "path_train_real = path+\"/train_real\"\n",
        "make_dir(path_train_real)\n",
        "\n",
        "make_dir(path+\"/dataset\")\n",
        "make_dir(path+\"/dataset/training/1\")\n",
        "make_dir(path+\"/dataset/training/2\")\n",
        "make_dir(path+\"/dataset/training/3\")\n",
        "make_dir(path+\"/dataset/training/4\")\n",
        "make_dir(path+\"/dataset/training/5\")\n",
        "\n",
        "make_dir(path+\"/dataset/testing/1\")\n",
        "make_dir(path+\"/dataset/testing/2\")\n",
        "make_dir(path+\"/dataset/testing/3\")\n",
        "make_dir(path+\"/dataset/testing/4\")\n",
        "make_dir(path+\"/dataset/testing/5\")\n",
        "\n",
        "for i in range(0,len(test)):\n",
        "    image = cv2.imread(path+\"/images/\"+test['image'][i]) \n",
        "    test_real.append(image)\n",
        "    cv2.imwrite(os.path.join(path_test_real+\"/\"+test['image'][i]),image)\n",
        "\n",
        "\n",
        "for i in range(0,len(train)):\n",
        "    image = cv2.imread(path+\"/images/\"+train['image'][i]) \n",
        "    train_real.append(image)\n",
        "    cv2.imwrite(os.path.join(path_train_real+\"/\"+train['image'][i]),image)\n",
        "\n",
        "path1=\"/content/dataset/training/1\"        \n",
        "path2=\"/content/dataset/training/2\"\n",
        "path3=\"/content/dataset/training/3\"\n",
        "path4=\"/content/dataset/training/4\"\n",
        "path5=\"/content/dataset/training/5\"\n",
        "\n",
        "for i in range(0,5000):\n",
        "    if(train['category'][i]==1):\n",
        "        cv2.imwrite(os.path.join(path1+\"//\"+train['image'][i]),train_real[i])\n",
        "    elif(train['category'][i]==2):\n",
        "        cv2.imwrite(os.path.join(path2+\"//\"+train['image'][i]),train_real[i])    \n",
        "    elif(train['category'][i]==3):\n",
        "        cv2.imwrite(os.path.join(path3+\"//\"+train['image'][i]),train_real[i])    \n",
        "    elif(train['category'][i]==4):\n",
        "        cv2.imwrite(os.path.join(path4+\"//\"+train['image'][i]),train_real[i])    \n",
        "    else:\n",
        "        cv2.imwrite(os.path.join(path5+\"//\"+train['image'][i]),train_real[i])    \n",
        "\n",
        "\n",
        "path1=\"/content/dataset/testing/1\"        \n",
        "path2=\"/content/dataset/testing/2\"\n",
        "path3=\"/content/dataset/testing/3\"\n",
        "path4=\"/content/dataset/testing/4\"\n",
        "path5=\"/content/dataset/testing/5\"\n",
        "\n",
        "for i in range(5000,len(train_real)):\n",
        "    if(train['category'][i]==1):\n",
        "        cv2.imwrite(os.path.join(path1+\"//\"+train['image'][i]),train_real[i])\n",
        "    elif(train['category'][i]==2):\n",
        "        cv2.imwrite(os.path.join(path2+\"//\"+train['image'][i]),train_real[i])    \n",
        "    elif(train['category'][i]==3):\n",
        "        cv2.imwrite(os.path.join(path3+\"//\"+train['image'][i]),train_real[i])    \n",
        "    elif(train['category'][i]==4):\n",
        "        cv2.imwrite(os.path.join(path4+\"//\"+train['image'][i]),train_real[i])    \n",
        "    else:\n",
        "        cv2.imwrite(os.path.join(path5+\"//\"+train['image'][i]),train_real[i])    \n",
        "\n",
        "\n",
        "\n",
        "\n",
        "\n",
        "print(\"Training and Test Data Extraction Complete\")"
      ],
      "execution_count": 0,
      "outputs": []
    },
    {
      "cell_type": "code",
      "metadata": {
        "id": "7mrS7oOwKQRw",
        "colab_type": "code",
        "outputId": "de1c715a-8654-4ffe-81d4-5b29eeb471e8",
        "colab": {
          "base_uri": "https://localhost:8080/",
          "height": 50
        }
      },
      "source": [
        "class LossHistory(Callback):\n",
        "    def __init__(self):\n",
        "        super().__init__()\n",
        "        self.epoch_id = 0\n",
        "        self.losses = ''\n",
        " \n",
        "    def on_epoch_end(self, epoch, logs={}):\n",
        "        self.losses += \"Epoch {}: accuracy -> {:.4f}, val_accuracy -> {:.4f}\\n\"\\\n",
        "            .format(str(self.epoch_id), logs.get('acc'), logs.get('val_acc'))\n",
        "        self.epoch_id += 1\n",
        " \n",
        "    def on_train_begin(self, logs={}):\n",
        "        self.losses += 'Training begins...\\n'\n",
        " \n",
        "#script_dir = os.path.dirname(__file__)\n",
        "training_set_path = os.path.join('/content/dataset/training')\n",
        "test_set_path = os.path.join('/content/dataset/testing')\n",
        " \n",
        "# Initialising the CNN\n",
        "classifier = Sequential()\n",
        " \n",
        "# Step 1 - Convolution\n",
        "input_size = (128, 128)\n",
        "classifier.add(Conv2D(32, (3, 3), input_shape=(*input_size, 3), activation='relu'))\n",
        " \n",
        "# Step 2 - Pooling\n",
        "classifier.add(MaxPooling2D(pool_size=(2, 2)))  # 2x2 is optimal\n",
        " \n",
        "classifier.add(Conv2D(32, (3, 3), activation='relu'))\n",
        "classifier.add(MaxPooling2D(pool_size=(2, 2)))\n",
        " \n",
        "#classifier.add(Conv2D(128, (3, 3), activation='relu'))\n",
        "#classifier.add(MaxPooling2D(pool_size=(2, 2)))\n",
        " \n",
        "classifier.add(Conv2D(64, (3, 3), activation='relu'))\n",
        "classifier.add(MaxPooling2D(pool_size=(2, 2)))\n",
        "\n",
        "#classifier.add(Conv2D(64, (3, 3), activation='relu'))\n",
        "#classifier.add(MaxPooling2D(pool_size=(2, 2)))\n",
        "\n",
        "#classifier.add(Conv2D(64, (3, 3), activation='relu'))\n",
        "#classifier.add(MaxPooling2D(pool_size=(2, 2)))\n",
        "\n",
        "# Step 3 - Flattening\n",
        "classifier.add(Flatten())\n",
        " \n",
        "# Step 4 - Full connection\n",
        "classifier.add(Dense(units=4096, activation='relu'))\n",
        "classifier.add(Dropout(0.5))\n",
        "classifier.add(Dense(units=5, activation='softmax'))\n",
        " \n",
        "# Compiling the CNN\n",
        "classifier.compile(optimizer='adam', loss='categorical_crossentropy', metrics=['accuracy'])\n",
        " \n",
        "# Part 2 - Fitting the CNN to the images\n",
        "batch_size = 32\n",
        "train_datagen = ImageDataGenerator(rescale=1. / 255,\n",
        "                                   shear_range=0.2,\n",
        "                                   zoom_range=0.2,\n",
        "                                   horizontal_flip=True)\n",
        " \n",
        "test_datagen = ImageDataGenerator(rescale=1. / 255)\n",
        " \n",
        "training_set = train_datagen.flow_from_directory(training_set_path,\n",
        "                                                 target_size=input_size,\n",
        "                                                 batch_size=batch_size,\n",
        "                                                 class_mode='categorical')\n",
        " \n",
        "test_set = test_datagen.flow_from_directory(test_set_path,\n",
        "                                            target_size=input_size,\n",
        "                                            batch_size=batch_size,\n",
        "                                            class_mode='categorical')\n",
        " \n",
        "# Create a loss history\n",
        "history = LossHistory()"
      ],
      "execution_count": 0,
      "outputs": [
        {
          "output_type": "stream",
          "text": [
            "Found 5000 images belonging to 5 classes.\n",
            "Found 1252 images belonging to 5 classes.\n"
          ],
          "name": "stdout"
        }
      ]
    },
    {
      "cell_type": "code",
      "metadata": {
        "id": "iJHy2xi8K5Yw",
        "colab_type": "code",
        "outputId": "01c10583-b598-445c-c490-a0cdff3a6977",
        "colab": {
          "base_uri": "https://localhost:8080/",
          "height": 1000
        }
      },
      "source": [
        "classifier.fit_generator(training_set,\n",
        "                         steps_per_epoch=8000/batch_size,\n",
        "                         epochs=50,\n",
        "                         validation_data=test_set,\n",
        "                         validation_steps=2000/batch_size,\n",
        "                         workers=12,\n",
        "                         callbacks=[history],\n",
        "                        use_multiprocessing=True)"
      ],
      "execution_count": 0,
      "outputs": [
        {
          "output_type": "stream",
          "text": [
            "Epoch 1/50\n",
            "249/250 [============================>.] - ETA: 0s - loss: 1.3633 - acc: 0.4483Epoch 1/50\n",
            "250/250 [==============================] - 49s 194ms/step - loss: 1.3617 - acc: 0.4484 - val_loss: 1.0958 - val_acc: 0.5543\n",
            "Epoch 2/50\n",
            "249/250 [============================>.] - ETA: 0s - loss: 1.0014 - acc: 0.5906Epoch 1/50\n",
            "250/250 [==============================] - 48s 191ms/step - loss: 1.0007 - acc: 0.5910 - val_loss: 0.9321 - val_acc: 0.6353\n",
            "Epoch 3/50\n",
            "249/250 [============================>.] - ETA: 0s - loss: 0.8816 - acc: 0.6377Epoch 1/50\n",
            "250/250 [==============================] - 47s 187ms/step - loss: 0.8820 - acc: 0.6374 - val_loss: 0.7686 - val_acc: 0.6962\n",
            "Epoch 4/50\n",
            "249/250 [============================>.] - ETA: 0s - loss: 0.7472 - acc: 0.7052Epoch 1/50\n",
            "250/250 [==============================] - 50s 198ms/step - loss: 0.7468 - acc: 0.7052 - val_loss: 0.7997 - val_acc: 0.6977\n",
            "Epoch 5/50\n",
            "249/250 [============================>.] - ETA: 0s - loss: 0.6616 - acc: 0.7351Epoch 1/50\n",
            "250/250 [==============================] - 46s 183ms/step - loss: 0.6625 - acc: 0.7347 - val_loss: 0.6806 - val_acc: 0.7364\n",
            "Epoch 6/50\n",
            "249/250 [============================>.] - ETA: 0s - loss: 0.5711 - acc: 0.7768Epoch 1/50\n",
            "250/250 [==============================] - 48s 193ms/step - loss: 0.5699 - acc: 0.7774 - val_loss: 0.7911 - val_acc: 0.7072\n",
            "Epoch 7/50\n",
            "249/250 [============================>.] - ETA: 0s - loss: 0.5023 - acc: 0.8046Epoch 1/50\n",
            "250/250 [==============================] - 49s 194ms/step - loss: 0.5017 - acc: 0.8048 - val_loss: 0.6102 - val_acc: 0.7736\n",
            "Epoch 8/50\n",
            "249/250 [============================>.] - ETA: 0s - loss: 0.4182 - acc: 0.8347Epoch 1/50\n",
            "250/250 [==============================] - 46s 185ms/step - loss: 0.4177 - acc: 0.8348 - val_loss: 0.6330 - val_acc: 0.7616\n",
            "Epoch 9/50\n",
            "249/250 [============================>.] - ETA: 0s - loss: 0.3792 - acc: 0.8497Epoch 1/50\n",
            "250/250 [==============================] - 47s 189ms/step - loss: 0.3789 - acc: 0.8500 - val_loss: 0.5958 - val_acc: 0.8023\n",
            "Epoch 10/50\n",
            "249/250 [============================>.] - ETA: 0s - loss: 0.3168 - acc: 0.8801Epoch 1/50\n",
            "250/250 [==============================] - 46s 183ms/step - loss: 0.3163 - acc: 0.8804 - val_loss: 0.6261 - val_acc: 0.7983\n",
            "Epoch 11/50\n",
            "248/250 [============================>.] - ETA: 0s - loss: 0.2876 - acc: 0.8905Epoch 1/50\n",
            "250/250 [==============================] - 47s 189ms/step - loss: 0.2875 - acc: 0.8901 - val_loss: 0.6366 - val_acc: 0.8003\n",
            "Epoch 12/50\n",
            "249/250 [============================>.] - ETA: 0s - loss: 0.2460 - acc: 0.9081Epoch 1/50\n",
            "250/250 [==============================] - 48s 190ms/step - loss: 0.2458 - acc: 0.9082 - val_loss: 0.6448 - val_acc: 0.7978\n",
            "Epoch 13/50\n",
            "249/250 [============================>.] - ETA: 0s - loss: 0.2191 - acc: 0.9164Epoch 1/50\n",
            "250/250 [==============================] - 47s 189ms/step - loss: 0.2189 - acc: 0.9165 - val_loss: 0.6269 - val_acc: 0.8084\n",
            "Epoch 14/50\n",
            "249/250 [============================>.] - ETA: 0s - loss: 0.1988 - acc: 0.9230Epoch 1/50\n",
            "250/250 [==============================] - 48s 192ms/step - loss: 0.1985 - acc: 0.9230 - val_loss: 0.7111 - val_acc: 0.8099\n",
            "Epoch 15/50\n",
            "249/250 [============================>.] - ETA: 0s - loss: 0.1811 - acc: 0.9365Epoch 1/50\n",
            "250/250 [==============================] - 46s 185ms/step - loss: 0.1817 - acc: 0.9364 - val_loss: 0.7548 - val_acc: 0.8149\n",
            "Epoch 16/50\n",
            "249/250 [============================>.] - ETA: 0s - loss: 0.1490 - acc: 0.9463Epoch 1/50\n",
            "250/250 [==============================] - 48s 192ms/step - loss: 0.1492 - acc: 0.9463 - val_loss: 0.7548 - val_acc: 0.8194\n",
            "Epoch 17/50\n",
            "249/250 [============================>.] - ETA: 0s - loss: 0.1517 - acc: 0.9465Epoch 1/50\n",
            "250/250 [==============================] - 48s 192ms/step - loss: 0.1515 - acc: 0.9466 - val_loss: 0.8807 - val_acc: 0.7882\n",
            "Epoch 18/50\n",
            "249/250 [============================>.] - ETA: 0s - loss: 0.1339 - acc: 0.9518Epoch 1/50\n",
            "250/250 [==============================] - 46s 185ms/step - loss: 0.1335 - acc: 0.9520 - val_loss: 0.8117 - val_acc: 0.8084\n",
            "Epoch 19/50\n",
            "249/250 [============================>.] - ETA: 0s - loss: 0.1263 - acc: 0.9562Epoch 1/50\n",
            "250/250 [==============================] - 48s 192ms/step - loss: 0.1259 - acc: 0.9564 - val_loss: 0.7613 - val_acc: 0.8265\n",
            "Epoch 20/50\n",
            "249/250 [============================>.] - ETA: 0s - loss: 0.1303 - acc: 0.9556Epoch 1/50\n",
            "250/250 [==============================] - 46s 185ms/step - loss: 0.1302 - acc: 0.9555 - val_loss: 0.8745 - val_acc: 0.8184\n",
            "Epoch 21/50\n",
            "249/250 [============================>.] - ETA: 0s - loss: 0.1186 - acc: 0.9607Epoch 1/50\n",
            "250/250 [==============================] - 48s 193ms/step - loss: 0.1185 - acc: 0.9606 - val_loss: 0.8191 - val_acc: 0.8134\n",
            "Epoch 22/50\n",
            "249/250 [============================>.] - ETA: 0s - loss: 0.1081 - acc: 0.9625Epoch 1/50\n",
            "250/250 [==============================] - 48s 192ms/step - loss: 0.1078 - acc: 0.9625 - val_loss: 0.8752 - val_acc: 0.8124\n",
            "Epoch 23/50\n",
            "249/250 [============================>.] - ETA: 0s - loss: 0.1179 - acc: 0.9610Epoch 1/50\n",
            "250/250 [==============================] - 46s 185ms/step - loss: 0.1177 - acc: 0.9611 - val_loss: 0.8279 - val_acc: 0.8270\n",
            "Epoch 24/50\n",
            "249/250 [============================>.] - ETA: 0s - loss: 0.1003 - acc: 0.9649Epoch 1/50\n",
            "250/250 [==============================] - 48s 193ms/step - loss: 0.1007 - acc: 0.9645 - val_loss: 0.8638 - val_acc: 0.8169\n",
            "Epoch 25/50\n",
            "249/250 [============================>.] - ETA: 0s - loss: 0.0946 - acc: 0.9677Epoch 1/50\n",
            "250/250 [==============================] - 46s 185ms/step - loss: 0.0947 - acc: 0.9676 - val_loss: 0.9390 - val_acc: 0.8063\n",
            "Epoch 26/50\n",
            "249/250 [============================>.] - ETA: 0s - loss: 0.0948 - acc: 0.9682Epoch 1/50\n",
            "250/250 [==============================] - 48s 192ms/step - loss: 0.0945 - acc: 0.9683 - val_loss: 0.9024 - val_acc: 0.8214\n",
            "Epoch 27/50\n",
            "249/250 [============================>.] - ETA: 0s - loss: 0.1136 - acc: 0.9612Epoch 1/50\n",
            " 39/250 [===>..........................] - ETA: 15s - loss: 0.8696 - acc: 0.8309Epoch 1/50\n",
            "250/250 [==============================] - 45s 178ms/step - loss: 0.1133 - acc: 0.9614 - val_loss: 0.8775 - val_acc: 0.8244\n",
            "Epoch 28/50\n",
            "249/250 [============================>.] - ETA: 0s - loss: 0.0952 - acc: 0.9689Epoch 1/50\n",
            "250/250 [==============================] - 50s 198ms/step - loss: 0.0952 - acc: 0.9688 - val_loss: 0.9374 - val_acc: 0.8109\n",
            "Epoch 29/50\n",
            "249/250 [============================>.] - ETA: 0s - loss: 0.0773 - acc: 0.9723Epoch 1/50\n",
            "250/250 [==============================] - 48s 191ms/step - loss: 0.0771 - acc: 0.9725 - val_loss: 0.8988 - val_acc: 0.8275\n",
            "Epoch 30/50\n",
            "249/250 [============================>.] - ETA: 0s - loss: 0.0831 - acc: 0.9747Epoch 1/50\n",
            "250/250 [==============================] - 46s 186ms/step - loss: 0.0829 - acc: 0.9748 - val_loss: 0.9205 - val_acc: 0.8204\n",
            "Epoch 31/50\n",
            "249/250 [============================>.] - ETA: 0s - loss: 0.0779 - acc: 0.9755Epoch 1/50\n",
            "250/250 [==============================] - 48s 192ms/step - loss: 0.0778 - acc: 0.9755 - val_loss: 0.9789 - val_acc: 0.8149\n",
            "Epoch 32/50\n",
            "249/250 [============================>.] - ETA: 0s - loss: 0.0613 - acc: 0.9798Epoch 1/50\n",
            "250/250 [==============================] - 46s 183ms/step - loss: 0.0614 - acc: 0.9796 - val_loss: 1.0205 - val_acc: 0.8119\n",
            "Epoch 33/50\n",
            "249/250 [============================>.] - ETA: 0s - loss: 0.0780 - acc: 0.9749Epoch 1/50\n",
            "250/250 [==============================] - 49s 195ms/step - loss: 0.0780 - acc: 0.9748 - val_loss: 0.9394 - val_acc: 0.8179\n",
            "Epoch 34/50\n",
            "249/250 [============================>.] - ETA: 0s - loss: 0.0635 - acc: 0.9771Epoch 1/50\n",
            "250/250 [==============================] - 48s 192ms/step - loss: 0.0639 - acc: 0.9771 - val_loss: 1.3506 - val_acc: 0.7973\n",
            "Epoch 35/50\n",
            "249/250 [============================>.] - ETA: 0s - loss: 0.0952 - acc: 0.9700Epoch 1/50\n",
            "250/250 [==============================] - 46s 185ms/step - loss: 0.0953 - acc: 0.9699 - val_loss: 0.8367 - val_acc: 0.8164\n",
            "Epoch 36/50\n",
            "249/250 [============================>.] - ETA: 0s - loss: 0.0578 - acc: 0.9827Epoch 1/50\n",
            "250/250 [==============================] - 48s 193ms/step - loss: 0.0576 - acc: 0.9828 - val_loss: 0.9595 - val_acc: 0.8174\n",
            "Epoch 37/50\n",
            "249/250 [============================>.] - ETA: 0s - loss: 0.0513 - acc: 0.9835Epoch 1/50\n",
            "250/250 [==============================] - 46s 185ms/step - loss: 0.0523 - acc: 0.9833 - val_loss: 1.0467 - val_acc: 0.7973\n",
            "Epoch 38/50\n",
            "249/250 [============================>.] - ETA: 0s - loss: 0.0641 - acc: 0.9774Epoch 1/50\n",
            "250/250 [==============================] - 48s 193ms/step - loss: 0.0640 - acc: 0.9775 - val_loss: 1.1446 - val_acc: 0.8139\n",
            "Epoch 39/50\n",
            "249/250 [============================>.] - ETA: 0s - loss: 0.0698 - acc: 0.9749Epoch 1/50\n",
            "250/250 [==============================] - 48s 193ms/step - loss: 0.0696 - acc: 0.9750 - val_loss: 1.2435 - val_acc: 0.7832\n",
            "Epoch 40/50\n",
            "249/250 [============================>.] - ETA: 0s - loss: 0.0852 - acc: 0.9731Epoch 1/50\n",
            "250/250 [==============================] - 46s 186ms/step - loss: 0.0851 - acc: 0.9731 - val_loss: 0.9666 - val_acc: 0.8320\n",
            "Epoch 41/50\n",
            "249/250 [============================>.] - ETA: 0s - loss: 0.0565 - acc: 0.9808Epoch 1/50\n",
            "250/250 [==============================] - 48s 193ms/step - loss: 0.0566 - acc: 0.9808 - val_loss: 1.1320 - val_acc: 0.8179\n",
            "Epoch 42/50\n",
            "249/250 [============================>.] - ETA: 0s - loss: 0.0537 - acc: 0.9821Epoch 1/50\n",
            "250/250 [==============================] - 46s 185ms/step - loss: 0.0535 - acc: 0.9821 - val_loss: 1.0822 - val_acc: 0.8335\n",
            "Epoch 43/50\n",
            "249/250 [============================>.] - ETA: 0s - loss: 0.0528 - acc: 0.9840Epoch 1/50\n",
            "250/250 [==============================] - 48s 193ms/step - loss: 0.0527 - acc: 0.9840 - val_loss: 1.2468 - val_acc: 0.8058\n",
            "Epoch 44/50\n",
            "249/250 [============================>.] - ETA: 0s - loss: 0.0622 - acc: 0.9810Epoch 1/50\n",
            "250/250 [==============================] - 48s 193ms/step - loss: 0.0620 - acc: 0.9811 - val_loss: 0.9438 - val_acc: 0.8265\n",
            "Epoch 45/50\n",
            "249/250 [============================>.] - ETA: 0s - loss: 0.0485 - acc: 0.9846Epoch 1/50\n",
            "250/250 [==============================] - 46s 185ms/step - loss: 0.0486 - acc: 0.9845 - val_loss: 1.1085 - val_acc: 0.8209\n",
            "Epoch 46/50\n",
            "249/250 [============================>.] - ETA: 0s - loss: 0.0691 - acc: 0.9782Epoch 1/50\n",
            "250/250 [==============================] - 48s 193ms/step - loss: 0.0690 - acc: 0.9783 - val_loss: 1.2280 - val_acc: 0.8164\n",
            "Epoch 47/50\n",
            "249/250 [============================>.] - ETA: 0s - loss: 0.0557 - acc: 0.9815Epoch 1/50\n",
            "250/250 [==============================] - 45s 182ms/step - loss: 0.0555 - acc: 0.9816 - val_loss: 1.2862 - val_acc: 0.8018\n",
            "Epoch 48/50\n",
            "249/250 [============================>.] - ETA: 0s - loss: 0.0518 - acc: 0.9842Epoch 1/50\n",
            "250/250 [==============================] - 48s 192ms/step - loss: 0.0517 - acc: 0.9842 - val_loss: 1.1579 - val_acc: 0.8094\n",
            "Epoch 49/50\n",
            "249/250 [============================>.] - ETA: 0s - loss: 0.0506 - acc: 0.9840Epoch 1/50\n",
            "250/250 [==============================] - 48s 192ms/step - loss: 0.0504 - acc: 0.9840 - val_loss: 1.1586 - val_acc: 0.8058\n",
            "Epoch 50/50\n",
            "249/250 [============================>.] - ETA: 0s - loss: 0.0656 - acc: 0.9806Epoch 1/50\n",
            "250/250 [==============================] - 47s 187ms/step - loss: 0.0653 - acc: 0.9807 - val_loss: 0.9858 - val_acc: 0.8295\n"
          ],
          "name": "stdout"
        },
        {
          "output_type": "execute_result",
          "data": {
            "text/plain": [
              "<tensorflow.python.keras.callbacks.History at 0x7f3264e7a940>"
            ]
          },
          "metadata": {
            "tags": []
          },
          "execution_count": 26
        }
      ]
    },
    {
      "cell_type": "code",
      "metadata": {
        "id": "FS-Lb9MEl7CH",
        "colab_type": "code",
        "outputId": "4e2255d8-c5db-4940-b048-1741d7eb5d2e",
        "colab": {
          "base_uri": "https://localhost:8080/",
          "height": 34
        }
      },
      "source": [
        "model_backup_path = os.path.join('/content/gdrive/My Drive/Image Classification/model5_colab.h5')\n",
        "classifier.save(model_backup_path)\n",
        "print(\"Model saved to\", model_backup_path)"
      ],
      "execution_count": 0,
      "outputs": [
        {
          "output_type": "stream",
          "text": [
            "Model saved to /content/gdrive/My Drive/Image Classification/model5_colab.h5\n"
          ],
          "name": "stdout"
        }
      ]
    },
    {
      "cell_type": "code",
      "metadata": {
        "id": "oIeYTZr6LApR",
        "colab_type": "code",
        "colab": {}
      },
      "source": [
        "import keras\n",
        "import tensorflow as tf\n",
        "from keras.models import load_model\n",
        "from keras.preprocessing import image\n",
        "import numpy as np\n",
        "import os\n",
        "from PIL import Image\n",
        "images = []\n",
        "path1=\"/content/test_real\"\n",
        "for img in os.listdir(\"/content/test_real\"):\n",
        "    img = image.load_img(path1+\"/\"+img, target_size=(128, 128))\n",
        "    img = image.img_to_array(img)\n",
        "    img = np.expand_dims(img, axis=0)\n",
        "    images.append(img)"
      ],
      "execution_count": 0,
      "outputs": []
    },
    {
      "cell_type": "code",
      "metadata": {
        "id": "heJndM_yLJTO",
        "colab_type": "code",
        "colab": {}
      },
      "source": [
        "images = np.vstack(images)"
      ],
      "execution_count": 0,
      "outputs": []
    },
    {
      "cell_type": "code",
      "metadata": {
        "id": "azohVsKALM-U",
        "colab_type": "code",
        "colab": {}
      },
      "source": [
        "classifier._make_predict_function()\n",
        "classes=classifier.predict(images)"
      ],
      "execution_count": 0,
      "outputs": []
    },
    {
      "cell_type": "code",
      "metadata": {
        "id": "jFaqbwZ6LPlG",
        "colab_type": "code",
        "colab": {}
      },
      "source": [
        "pred=[]\n",
        "for i in range(0,len(classes)):\n",
        "    pred.append(classes[i].argmax(axis=0)+1)"
      ],
      "execution_count": 0,
      "outputs": []
    },
    {
      "cell_type": "code",
      "metadata": {
        "id": "xpEjNrVQLSD6",
        "colab_type": "code",
        "colab": {}
      },
      "source": [
        "import pandas as pd\n",
        "z=os.listdir(\"/content/test_real\")\n",
        "data=pd.DataFrame(list(zip(z,pred)),columns=['image','category']).to_csv(\"/content/Solutioncolab_5.csv\")\n"
      ],
      "execution_count": 0,
      "outputs": []
    },
    {
      "cell_type": "code",
      "metadata": {
        "id": "iMVCnezxk76I",
        "colab_type": "code",
        "colab": {}
      },
      "source": [
        ""
      ],
      "execution_count": 0,
      "outputs": []
    }
  ]
}