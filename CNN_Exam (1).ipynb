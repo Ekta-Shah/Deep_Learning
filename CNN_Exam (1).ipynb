{
  "nbformat": 4,
  "nbformat_minor": 0,
  "metadata": {
    "colab": {
      "name": "CNN-Exam.ipynb",
      "provenance": []
    },
    "kernelspec": {
      "name": "python3",
      "display_name": "Python 3"
    },
    "accelerator": "GPU"
  },
  "cells": [
    {
      "cell_type": "code",
      "metadata": {
        "id": "lDqFCNwA36qz",
        "colab_type": "code",
        "colab": {}
      },
      "source": [
        "import tensorflow as tf\n",
        "import keras as ks\n",
        "import pandas as pd\n",
        "import numpy as np\n",
        "import matplotlib.pyplot as plt"
      ],
      "execution_count": 0,
      "outputs": []
    },
    {
      "cell_type": "code",
      "metadata": {
        "id": "PxeuTP9G4bLl",
        "colab_type": "code",
        "colab": {}
      },
      "source": [
        "from keras.models import Sequential\n",
        "from keras.layers import Conv2D\n",
        "from keras.layers import MaxPooling2D\n",
        "from keras.layers import Flatten\n",
        "from keras.layers import Dense\n",
        "from keras.layers import Dropout"
      ],
      "execution_count": 0,
      "outputs": []
    },
    {
      "cell_type": "code",
      "metadata": {
        "id": "MBuwNeV85kJF",
        "colab_type": "code",
        "colab": {
          "base_uri": "https://localhost:8080/",
          "height": 68
        },
        "outputId": "c3e08fa0-f07f-4648-b18f-8f5729bb49a0"
      },
      "source": [
        "classifier = Sequential()\n",
        "\n",
        "# Step 1 - Convolution\n",
        "classifier.add(Conv2D(32, (3, 3), input_shape = (64, 64, 3), activation = 'relu'))\n",
        "\n",
        "# Step 2 - Pooling\n",
        "classifier.add(MaxPooling2D(pool_size = (2, 2)))\n",
        "#classifier.add(Dropout(p=0.5))\n",
        "\n",
        "# Adding a second convolutional layer\n",
        "classifier.add(Conv2D(32, (3, 3), activation = 'relu'))\n",
        "classifier.add(MaxPooling2D(pool_size = (2, 2)))\n",
        "classifier.add(Dropout(p=0.5))\n",
        "\n",
        "# Step 3 - Flattening\n",
        "classifier.add(Flatten())\n",
        "\n",
        "# Step 4 - Full connection\n",
        "classifier.add(Dense(units = 512, activation = 'relu'))\n",
        "classifier.add(Dropout(p=0.5))\n",
        "classifier.add(Dense(units = 1, activation = 'sigmoid'))\n",
        "\n",
        "# Compiling the CNN\n",
        "classifier.compile(optimizer = 'adam', loss = 'binary_crossentropy', metrics = ['accuracy'])\n",
        "\n"
      ],
      "execution_count": 28,
      "outputs": [
        {
          "output_type": "stream",
          "text": [
            "/usr/local/lib/python3.6/dist-packages/ipykernel_launcher.py:13: UserWarning: Update your `Dropout` call to the Keras 2 API: `Dropout(rate=0.5)`\n",
            "  del sys.path[0]\n",
            "/usr/local/lib/python3.6/dist-packages/ipykernel_launcher.py:20: UserWarning: Update your `Dropout` call to the Keras 2 API: `Dropout(rate=0.5)`\n"
          ],
          "name": "stderr"
        }
      ]
    },
    {
      "cell_type": "code",
      "metadata": {
        "id": "kEuVDMCzA5SQ",
        "colab_type": "code",
        "colab": {
          "base_uri": "https://localhost:8080/",
          "height": 34
        },
        "outputId": "9a9a12db-0aa2-49ea-eacc-33774a3bb69e"
      },
      "source": [
        "from google.colab import drive\n",
        "drive.mount('/content/drive')"
      ],
      "execution_count": 25,
      "outputs": [
        {
          "output_type": "stream",
          "text": [
            "Drive already mounted at /content/drive; to attempt to forcibly remount, call drive.mount(\"/content/drive\", force_remount=True).\n"
          ],
          "name": "stdout"
        }
      ]
    },
    {
      "cell_type": "code",
      "metadata": {
        "id": "03Qf8HvZ6yRL",
        "colab_type": "code",
        "colab": {}
      },
      "source": [
        "# Part 2 - Fitting the CNN to the images\n",
        "\n",
        "from keras.preprocessing.image import ImageDataGenerator\n",
        "\n",
        "train_datagen = ImageDataGenerator(rescale = 1./255,\n",
        "                                   shear_range = 0.2,\n",
        "                                   zoom_range = 0.2,\n",
        "                                   horizontal_flip = True)\n",
        "\n",
        "test_datagen = ImageDataGenerator(rescale = 1./255)"
      ],
      "execution_count": 0,
      "outputs": []
    },
    {
      "cell_type": "code",
      "metadata": {
        "id": "s0YInnq6Bl_Y",
        "colab_type": "code",
        "colab": {
          "base_uri": "https://localhost:8080/",
          "height": 918
        },
        "outputId": "5bd7b373-814b-4c81-a215-fe794e5d6753"
      },
      "source": [
        "\n",
        "training_set = train_datagen.flow_from_directory('/content/drive/My Drive/truckcar/train',\n",
        "                                                 target_size = (64, 64),\n",
        "                                                 batch_size = 32,\n",
        "                                                 class_mode = 'binary')\n",
        "\n",
        "test_set = test_datagen.flow_from_directory('/content/drive/My Drive/truckcar/test',\n",
        "                                            target_size = (64, 64),\n",
        "                                            batch_size = 32,\n",
        "                                            class_mode = 'binary')\n",
        "\n",
        "classifier.fit_generator(training_set,\n",
        "                         steps_per_epoch = 628 ,\n",
        "                         epochs = 25,\n",
        "                         validation_data = test_set,\n",
        "                         validation_steps = 160)\n"
      ],
      "execution_count": 30,
      "outputs": [
        {
          "output_type": "stream",
          "text": [
            "Found 628 images belonging to 2 classes.\n",
            "Found 160 images belonging to 2 classes.\n",
            "Epoch 1/25\n",
            "628/628 [==============================] - 176s 280ms/step - loss: 0.5750 - acc: 0.6774 - val_loss: 0.8684 - val_acc: 0.5938\n",
            "Epoch 2/25\n",
            "628/628 [==============================] - 171s 272ms/step - loss: 0.2988 - acc: 0.8709 - val_loss: 1.2527 - val_acc: 0.5687\n",
            "Epoch 3/25\n",
            "628/628 [==============================] - 172s 273ms/step - loss: 0.1366 - acc: 0.9492 - val_loss: 1.3569 - val_acc: 0.6312\n",
            "Epoch 4/25\n",
            "628/628 [==============================] - 170s 271ms/step - loss: 0.0716 - acc: 0.9758 - val_loss: 1.8222 - val_acc: 0.6000\n",
            "Epoch 5/25\n",
            "628/628 [==============================] - 171s 273ms/step - loss: 0.0545 - acc: 0.9805 - val_loss: 1.5360 - val_acc: 0.6000\n",
            "Epoch 6/25\n",
            "628/628 [==============================] - 172s 273ms/step - loss: 0.0394 - acc: 0.9866 - val_loss: 1.8629 - val_acc: 0.6062\n",
            "Epoch 7/25\n",
            "628/628 [==============================] - 170s 271ms/step - loss: 0.0384 - acc: 0.9885 - val_loss: 2.1411 - val_acc: 0.6062\n",
            "Epoch 8/25\n",
            "628/628 [==============================] - 173s 276ms/step - loss: 0.0254 - acc: 0.9918 - val_loss: 2.0245 - val_acc: 0.6188\n",
            "Epoch 9/25\n",
            "628/628 [==============================] - 169s 269ms/step - loss: 0.0248 - acc: 0.9915 - val_loss: 1.7463 - val_acc: 0.6625\n",
            "Epoch 10/25\n",
            "628/628 [==============================] - 170s 270ms/step - loss: 0.0260 - acc: 0.9911 - val_loss: 2.0551 - val_acc: 0.6000\n",
            "Epoch 11/25\n",
            "628/628 [==============================] - 170s 270ms/step - loss: 0.0251 - acc: 0.9909 - val_loss: 2.5434 - val_acc: 0.5687\n",
            "Epoch 12/25\n",
            "628/628 [==============================] - 168s 268ms/step - loss: 0.0304 - acc: 0.9905 - val_loss: 1.8491 - val_acc: 0.6687\n",
            "Epoch 13/25\n",
            "628/628 [==============================] - 172s 274ms/step - loss: 0.0153 - acc: 0.9954 - val_loss: 2.2345 - val_acc: 0.6000\n",
            "Epoch 14/25\n",
            "628/628 [==============================] - 170s 270ms/step - loss: 0.0157 - acc: 0.9951 - val_loss: 2.0795 - val_acc: 0.6188\n",
            "Epoch 15/25\n",
            "628/628 [==============================] - 169s 269ms/step - loss: 0.0169 - acc: 0.9941 - val_loss: 2.1022 - val_acc: 0.5813\n",
            "Epoch 16/25\n",
            "628/628 [==============================] - 170s 271ms/step - loss: 0.0211 - acc: 0.9941 - val_loss: 2.6060 - val_acc: 0.5125\n",
            "Epoch 17/25\n",
            "628/628 [==============================] - 170s 271ms/step - loss: 0.0165 - acc: 0.9950 - val_loss: 1.8177 - val_acc: 0.6438\n",
            "Epoch 18/25\n",
            "628/628 [==============================] - 173s 275ms/step - loss: 0.0129 - acc: 0.9965 - val_loss: 2.2019 - val_acc: 0.6188\n",
            "Epoch 19/25\n",
            "628/628 [==============================] - 169s 269ms/step - loss: 0.0146 - acc: 0.9954 - val_loss: 2.3155 - val_acc: 0.6312\n",
            "Epoch 20/25\n",
            "628/628 [==============================] - 170s 271ms/step - loss: 0.0149 - acc: 0.9951 - val_loss: 2.4720 - val_acc: 0.6062\n",
            "Epoch 21/25\n",
            "628/628 [==============================] - 168s 268ms/step - loss: 0.0178 - acc: 0.9946 - val_loss: 2.5245 - val_acc: 0.6188\n",
            "Epoch 22/25\n",
            "628/628 [==============================] - 167s 267ms/step - loss: 0.0191 - acc: 0.9941 - val_loss: 2.3044 - val_acc: 0.6312\n",
            "Epoch 23/25\n",
            "628/628 [==============================] - 169s 269ms/step - loss: 0.0139 - acc: 0.9956 - val_loss: 2.9720 - val_acc: 0.5375\n",
            "Epoch 24/25\n",
            "628/628 [==============================] - 167s 266ms/step - loss: 0.0102 - acc: 0.9969 - val_loss: 2.4588 - val_acc: 0.6438\n",
            "Epoch 25/25\n",
            "628/628 [==============================] - 167s 266ms/step - loss: 0.0160 - acc: 0.9948 - val_loss: 2.6439 - val_acc: 0.6125\n"
          ],
          "name": "stdout"
        },
        {
          "output_type": "execute_result",
          "data": {
            "text/plain": [
              "<keras.callbacks.History at 0x7f5503625a20>"
            ]
          },
          "metadata": {
            "tags": []
          },
          "execution_count": 30
        }
      ]
    },
    {
      "cell_type": "code",
      "metadata": {
        "id": "WdjkJLWaCsud",
        "colab_type": "code",
        "colab": {}
      },
      "source": [
        "##Comments on Accuracy\n",
        "from keras.preprocessing import image\n",
        "test_image = image.load_img('dataset/single_prediction/cat_or_truck_1.jpg', target_size = (64, 64))\n",
        "test_image = image.img_to_array(test_image)\n",
        "test_image = np.expand_dims(test_image, axis = 0)\n",
        "result = classifier.predict(test_image)\n",
        "training_set.class_indices\n",
        "if result[0][0] == 1:\n",
        "    prediction = 'dog'\n",
        "else:\n",
        "    prediction = 'cat'\n",
        "    \n"
      ],
      "execution_count": 0,
      "outputs": []
    },
    {
      "cell_type": "markdown",
      "metadata": {
        "id": "Zpweuvxfgj0X",
        "colab_type": "text"
      },
      "source": [
        "### Training Accuracy comes to 99.4% and Validation Accuracy comes to 61%. These results are obtained after 25 epochs. The huge difference in training and validation accuracy leads to overfitting.\n",
        "\n",
        "Various variations of the models were tried for Car and Truck.\n",
        "1. Basic Model of 2 layers\n",
        "2. Regularization was applied by using Dropout layers but it still did not lead to an increase in accuracy.\n",
        "\n",
        "Hence my final model is the one which has two layers and certain dropout layers."
      ]
    },
    {
      "cell_type": "code",
      "metadata": {
        "id": "dQW3zUc6kLeb",
        "colab_type": "code",
        "colab": {}
      },
      "source": [
        ""
      ],
      "execution_count": 0,
      "outputs": []
    }
  ]
}